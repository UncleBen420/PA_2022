{
 "cells": [
  {
   "cell_type": "code",
   "execution_count": 1,
   "metadata": {},
   "outputs": [],
   "source": [
    "import cv2\n",
    "import numpy as np"
   ]
  },
  {
   "cell_type": "code",
   "execution_count": 3,
   "metadata": {},
   "outputs": [
    {
     "name": "stdout",
     "output_type": "stream",
     "text": [
      "640 480\n",
      "30\n",
      "video ended\n"
     ]
    }
   ],
   "source": [
    "PATH = 'test_video.avi'\n",
    "\n",
    "\n",
    "# Get a VideoCapture object from video and store it in vs\n",
    "vc = cv2.VideoCapture(PATH)\n",
    "# Read first frame\n",
    "ret, first_frame = vc.read()\n",
    "\n",
    "prev_gray = cv2.cvtColor(first_frame, cv2.COLOR_BGR2GRAY)\n",
    "prev_gray = cv2.GaussianBlur(prev_gray, (5, 5), 0)\n",
    "\n",
    "\n",
    "fshape = prev_gray.shape\n",
    "fheight = fshape[0]\n",
    "fwidth = fshape[1]\n",
    "print(fwidth, fheight)\n",
    "\n",
    "fps = int(vc.get(cv2.CAP_PROP_FPS))\n",
    "print(fps)\n",
    "\n",
    "\n",
    "fourcc = cv2.VideoWriter_fourcc(*'XVID')\n",
    "out = cv2.VideoWriter('video.avi',fourcc,fps,(fwidth, fheight))\n",
    "\n",
    "while(vc.isOpened()):\n",
    "    # Read a frame from video\n",
    "    ret, frame = vc.read()\n",
    "    \n",
    "    if frame is None:\n",
    "        print('video ended')\n",
    "        break\n",
    "    \n",
    "    gray = frame\n",
    "\n",
    "    gray = cv2.cvtColor(gray, cv2.COLOR_BGR2GRAY)\n",
    "    gray = cv2.GaussianBlur(gray, (5, 5), 0)\n",
    "\n",
    "    delta_frame=cv2.absdiff(prev_gray, gray)\n",
    "    delta_frame = cv2.cvtColor(delta_frame, cv2.COLOR_GRAY2BGR)\n",
    "\n",
    "    cv2.imshow(\"optical flow diff\", delta_frame)\n",
    "    out.write(delta_frame)\n",
    "    # Update previous frame\n",
    "    prev_gray = gray\n",
    "    # Frame are read by intervals of 1 millisecond. The programs breaks out of the while loop when the user presses the 'q' key\n",
    "    if cv2.waitKey(10) & 0xFF == ord('q'):\n",
    "        break\n",
    "# The following frees up resources and closes all windows\n",
    "vc.release()\n",
    "out.release() \n",
    "cv2.destroyAllWindows()"
   ]
  }
 ],
 "metadata": {
  "kernelspec": {
   "display_name": "Python 3 (ipykernel)",
   "language": "python",
   "name": "python3"
  },
  "language_info": {
   "codemirror_mode": {
    "name": "ipython",
    "version": 3
   },
   "file_extension": ".py",
   "mimetype": "text/x-python",
   "name": "python",
   "nbconvert_exporter": "python",
   "pygments_lexer": "ipython3",
   "version": "3.8.10"
  }
 },
 "nbformat": 4,
 "nbformat_minor": 4
}
