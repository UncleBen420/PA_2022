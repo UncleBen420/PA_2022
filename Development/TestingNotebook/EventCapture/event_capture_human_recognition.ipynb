{
 "cells": [
  {
   "cell_type": "code",
   "execution_count": 1,
   "metadata": {},
   "outputs": [],
   "source": [
    "import cv2\n",
    "import numpy as np\n",
    "import time\n",
    "import datetime"
   ]
  },
  {
   "cell_type": "code",
   "execution_count": 2,
   "metadata": {},
   "outputs": [],
   "source": [
    "config = {\n",
    "    \"name\":\"test_cam_1\",\n",
    "    \"record_time\":5\n",
    "}"
   ]
  },
  {
   "cell_type": "code",
   "execution_count": 3,
   "metadata": {},
   "outputs": [
    {
     "name": "stdout",
     "output_type": "stream",
     "text": [
      "640 480\n",
      "human: 0"
     ]
    }
   ],
   "source": [
    "hog = cv2.HOGDescriptor()\n",
    "\n",
    "PATH = 'test_video.avi'\n",
    "hog.setSVMDetector(cv2.HOGDescriptor_getDefaultPeopleDetector()) \n",
    "\n",
    "cap = cv2.VideoCapture(PATH)\n",
    "\n",
    "ret1,old_frame = cap.read()\n",
    "\n",
    "fshape = old_frame.shape\n",
    "fheight = fshape[0]\n",
    "fwidth = fshape[1]\n",
    "print(fwidth, fheight)\n",
    "fourcc = cv2.VideoWriter_fourcc(*'XVID')\n",
    "\n",
    "fps = cap.get(cv2.CAP_PROP_FPS)\n",
    "\n",
    "\n",
    "old_frame = cv2.cvtColor(old_frame, cv2.COLOR_BGR2GRAY)\n",
    "old_frame = cv2.GaussianBlur(old_frame, (5, 5), 0)\n",
    "\n",
    "nb_total = old_frame.size\n",
    "\n",
    "record_counter = 0\n",
    "\n",
    "while(1):\n",
    "    \n",
    "    ret1, new_frame = cap.read()\n",
    "    gray_frame = cv2.cvtColor(new_frame, cv2.COLOR_BGR2GRAY)\n",
    "    gray_frame = cv2.GaussianBlur(gray_frame, (5, 5), 0)\n",
    "    delta_frame=cv2.absdiff(old_frame, gray_frame)\n",
    "    threshold_frame = cv2.threshold(delta_frame, 25, 255, cv2.THRESH_BINARY)[1]\n",
    "    \n",
    "    old_frame = gray_frame\n",
    "    nb_white = np.sum(threshold_frame == 255)\n",
    "    \n",
    "    ratio = nb_white / nb_total\n",
    "    \n",
    "    (humans, a) = hog.detectMultiScale(new_frame,  \n",
    "                                    winStride=(5, 5), \n",
    "                                    padding=(3, 3), \n",
    "                                    scale=1.21)\n",
    "    \n",
    "    for (x, y, w, h) in humans: \n",
    "        cv2.rectangle(new_frame, (x, y),  \n",
    "                  (x + w, y + h),  \n",
    "                  (0, 0, 255), 2) \n",
    "\n",
    "    stri = '\\rhuman: ' + str(len(humans))\n",
    "    print(stri, end=\"\")\n",
    "    \n",
    "    cv2.imshow('delta', new_frame)\n",
    "    #press q to quit\n",
    "    if cv2.waitKey(1) & 0xFF == ord('q'):\n",
    "        break\n",
    "        \n",
    "    if ratio > 0.5 and record_counter == 0:\n",
    "        record_counter = fps * config['record_time']\n",
    "    \n",
    "        e = datetime.datetime.now()\n",
    "        dt = e.strftime(\"%Y-%m-%d_%H.%M.%S\")\n",
    "        \n",
    "        event = dt + '_' + config['name'] + '.avi'\n",
    "        \n",
    "        #out = cv2.VideoWriter(event, fourcc, fps, (fwidth,fheight))\n",
    "    elif record_counter > 0:\n",
    "        #out.write(new_frame)\n",
    "        \n",
    "        record_counter -= 1\n",
    "        if record_counter == 0:\n",
    "            print(\"event recorded\")\n",
    "            #out.release() \n",
    "        \n",
    "\n",
    "cap.release()\n",
    "cv2.destroyAllWindows()"
   ]
  }
 ],
 "metadata": {
  "kernelspec": {
   "display_name": "Python 3 (ipykernel)",
   "language": "python",
   "name": "python3"
  },
  "language_info": {
   "codemirror_mode": {
    "name": "ipython",
    "version": 3
   },
   "file_extension": ".py",
   "mimetype": "text/x-python",
   "name": "python",
   "nbconvert_exporter": "python",
   "pygments_lexer": "ipython3",
   "version": "3.8.10"
  }
 },
 "nbformat": 4,
 "nbformat_minor": 4
}
