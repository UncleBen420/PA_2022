{
 "cells": [
  {
   "cell_type": "code",
   "execution_count": 1,
   "metadata": {},
   "outputs": [],
   "source": [
    "import cv2\n",
    "import numpy as np"
   ]
  },
  {
   "cell_type": "code",
   "execution_count": 3,
   "metadata": {
    "scrolled": true
   },
   "outputs": [
    {
     "name": "stdout",
     "output_type": "stream",
     "text": [
      "video ended\n"
     ]
    }
   ],
   "source": [
    "PATH = 'test_video.avi'\n",
    "\n",
    "# Get a VideoCapture object from video and store it in vs\n",
    "vc = cv2.VideoCapture(PATH)\n",
    "# Read first frame\n",
    "ret, first_frame = vc.read()\n",
    "# Scale and resize image\n",
    "resize_dim = 600\n",
    "max_dim = max(first_frame.shape)\n",
    "scale = resize_dim/max_dim\n",
    "\n",
    "#first_frame = cv2.resize(first_frame, None, fx=scale, fy=scale)\n",
    "\n",
    "# Convert to gray scale \n",
    "prev_gray = cv2.cvtColor(first_frame, cv2.COLOR_BGR2GRAY)\n",
    "\n",
    "# Create mask\n",
    "mask = np.zeros_like(first_frame)\n",
    "\n",
    "# Sets image saturation to maximum\n",
    "mask[:,:,1] = 255\n",
    "\n",
    "fshape = prev_gray.shape\n",
    "fheight = fshape[0]\n",
    "fwidth = fshape[1]\n",
    "\n",
    "fps = vc.get(cv2.CAP_PROP_FPS)\n",
    "\n",
    "\n",
    "fourcc = cv2.VideoWriter_fourcc('m', 'p', '4', 'v')\n",
    "out = cv2.VideoWriter('video.mp4',fourcc,fps,(fwidth, fheight))\n",
    "\n",
    "while(vc.isOpened()):\n",
    "    # Read a frame from video\n",
    "    ret, frame = vc.read()\n",
    "    \n",
    "    if frame is None:\n",
    "        print('video ended')\n",
    "        break\n",
    "    \n",
    "    gray = frame\n",
    "    # Convert new frame format`s to gray scale and resize gray frame obtained\n",
    "    #gray = cv2.resize(frame, None, fx=scale, fy=scale)\n",
    "    gray = cv2.cvtColor(gray, cv2.COLOR_BGR2GRAY)\n",
    "\n",
    "\n",
    "    # Calculate dense optical flow by Farneback method\n",
    "    # https://docs.opencv.org/3.0-beta/modules/video/doc/motion_analysis_and_object_tracking.html#calcopticalflowfarneback\n",
    "    flow = cv2.calcOpticalFlowFarneback(prev_gray, gray, None, pyr_scale = 0.5, levels = 5, winsize = 15, iterations = 5, poly_n = 3, poly_sigma = 1.1, flags = 0)\n",
    "    # Compute the magnitude and angle of the 2D vectors\n",
    "    magnitude, angle = cv2.cartToPolar(flow[:,:,0], flow[:,:,1])\n",
    "    # Set image hue according to the optical flow direction\n",
    "    mask[:,:,0] = angle * 180 / np.pi / 2\n",
    "    # Set image value according to the optical flow magnitude (normalized)\n",
    "    mask[:,:,2] = cv2.normalize(magnitude, None, 0, 255, cv2.NORM_MINMAX)\n",
    "    # Convert HSV to RGB (BGR) color representation\n",
    "    rgb = cv2.cvtColor(mask, cv2.COLOR_HSV2BGR)\n",
    "    \n",
    "    # Resize frame size to match dimensions\n",
    "    #frame = cv2.resize(frame, None, fx=scale, fy=scale)\n",
    "    \n",
    "    # Open a new window and displays the output frame\n",
    "    dense_flow = cv2.addWeighted(frame, 1,rgb, 2, 0)\n",
    "    cv2.imshow(\"Dense optical flow\", dense_flow)\n",
    "    out.write(dense_flow)\n",
    "    # Update previous frame\n",
    "    prev_gray = gray\n",
    "    # Frame are read by intervals of 1 millisecond. The programs breaks out of the while loop when the user presses the 'q' key\n",
    "    if cv2.waitKey(10) & 0xFF == ord('q'):\n",
    "        break\n",
    "# The following frees up resources and closes all windows\n",
    "vc.release()\n",
    "out.release() \n",
    "cv2.destroyAllWindows()"
   ]
  },
  {
   "cell_type": "code",
   "execution_count": null,
   "metadata": {},
   "outputs": [],
   "source": []
  }
 ],
 "metadata": {
  "kernelspec": {
   "display_name": "Python 3 (ipykernel)",
   "language": "python",
   "name": "python3"
  },
  "language_info": {
   "codemirror_mode": {
    "name": "ipython",
    "version": 3
   },
   "file_extension": ".py",
   "mimetype": "text/x-python",
   "name": "python",
   "nbconvert_exporter": "python",
   "pygments_lexer": "ipython3",
   "version": "3.8.10"
  }
 },
 "nbformat": 4,
 "nbformat_minor": 4
}
